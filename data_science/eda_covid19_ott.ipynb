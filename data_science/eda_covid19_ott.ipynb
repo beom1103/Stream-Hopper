{
  "metadata": {
    "kernelspec": {
      "language": "python",
      "display_name": "Python 3",
      "name": "python3"
    },
    "language_info": {
      "pygments_lexer": "ipython3",
      "nbconvert_exporter": "python",
      "version": "3.6.4",
      "file_extension": ".py",
      "codemirror_mode": {
        "name": "ipython",
        "version": 3
      },
      "name": "python",
      "mimetype": "text/x-python"
    },
    "colab": {
      "name": "eda_covid19_ott.ipynb",
      "provenance": []
    }
  },
  "nbformat_minor": 0,
  "nbformat": 4,
  "cells": [
    {
      "cell_type": "code",
      "source": [
        "!sudo apt-get install -y fonts-nanum\n",
        "!sudo fc-cache -fv\n",
        "!rm ~/.cache/matplotlib -rf"
      ],
      "metadata": {
        "_uuid": "8f2839f25d086af736a60e9eeb907d3b93b6e0e5",
        "_cell_guid": "b1076dfc-b9ad-4769-8c92-a6c4dae69d19",
        "execution": {
          "iopub.status.busy": "2022-01-08T22:27:38.758963Z",
          "iopub.execute_input": "2022-01-08T22:27:38.759233Z",
          "iopub.status.idle": "2022-01-08T22:27:45.781298Z",
          "shell.execute_reply.started": "2022-01-08T22:27:38.759206Z",
          "shell.execute_reply": "2022-01-08T22:27:45.780422Z"
        },
        "trusted": true,
        "colab": {
          "base_uri": "https://localhost:8080/"
        },
        "id": "ylx_JknAr0nF",
        "outputId": "6332ba0f-aa8d-40aa-b4f5-6d5cab639d55"
      },
      "execution_count": null,
      "outputs": [
        {
          "output_type": "stream",
          "name": "stdout",
          "text": [
            "Reading package lists... Done\n",
            "Building dependency tree       \n",
            "Reading state information... Done\n",
            "fonts-nanum is already the newest version (20170925-1).\n",
            "0 upgraded, 0 newly installed, 0 to remove and 37 not upgraded.\n",
            "/usr/share/fonts: caching, new cache contents: 0 fonts, 1 dirs\n",
            "/usr/share/fonts/truetype: caching, new cache contents: 0 fonts, 3 dirs\n",
            "/usr/share/fonts/truetype/humor-sans: caching, new cache contents: 1 fonts, 0 dirs\n",
            "/usr/share/fonts/truetype/liberation: caching, new cache contents: 16 fonts, 0 dirs\n",
            "/usr/share/fonts/truetype/nanum: caching, new cache contents: 10 fonts, 0 dirs\n",
            "/usr/local/share/fonts: caching, new cache contents: 0 fonts, 0 dirs\n",
            "/root/.local/share/fonts: skipping, no such directory\n",
            "/root/.fonts: skipping, no such directory\n",
            "/var/cache/fontconfig: cleaning cache directory\n",
            "/root/.cache/fontconfig: not cleaning non-existent cache directory\n",
            "/root/.fontconfig: not cleaning non-existent cache directory\n",
            "fc-cache: succeeded\n"
          ]
        }
      ]
    },
    {
      "cell_type": "code",
      "source": [
        "import pandas as pd\n",
        "import numpy as np\n",
        "import seaborn as sns\n",
        "import matplotlib.pyplot as plt\n",
        "from matplotlib.patches import Patch\n",
        "from matplotlib.lines import Line2D\n",
        "import pandas as pd\n",
        "import numpy as np\n",
        "import seaborn as sns\n",
        "import matplotlib.pyplot as plt\n",
        "from matplotlib.patches import Patch\n",
        "from matplotlib.lines import Line2D\n",
        "\n",
        "import matplotlib.font_manager as fm\n",
        "plt.style.use('dark_background')"
      ],
      "metadata": {
        "trusted": true,
        "id": "nDMyme9xr0nP"
      },
      "execution_count": null,
      "outputs": []
    },
    {
      "cell_type": "markdown",
      "source": [
        "### 코로나 전,후 각 OTT 회사별 MAU, 매출액 변화\n",
        "- 코로나로 인해서 사회적 거리를 두고 집에 있는 시간이 늘면서 OTT 수요가 폭발적으로 늘어났다.\n",
        "- 코로나 전,후 상황으로 매출과 국내 월평균 순이용자(Montly Active Users,MAU) 비교해보면 모두 증가했다.\n",
        "- 특정 OTT 회사의 증가율을 더 가파른것을 확인 할 수 있다."
      ],
      "metadata": {
        "id": "cnPySycrr0ne"
      }
    },
    {
      "cell_type": "code",
      "source": [
        "ott_mau=pd.DataFrame({   \n",
        "     'name':['Netflix','Wavve','Tivving','Watcha'],\n",
        "     'before_covid': [332,281.5,151.2 ,45.5],\n",
        "     'after_covid': [637.5,344.2,241,92.6]\n",
        "})\n",
        "ott_mau.before_covid=ott_mau.before_covid*12\n",
        "ott_mau.after_covid=ott_mau.after_covid*12\n",
        "\n",
        "ott_sales=pd.DataFrame({   \n",
        "     'name':['Netflix','Wavve','Tivving','Watcha'],\n",
        "     'sales_bofore': [1859 ,973,0,218],\n",
        "     'sales_after': [4155 ,1802,155,377]\n",
        "\n",
        "    })\n",
        "ott_sales_grouped=zip(ott_sales[['sales_bofore']].values,ott_sales[['sales_after']].values)\n",
        "\n",
        "width=0.35\n",
        "x = np.arange(len(ott_mau.name)) \n",
        "fig, ax = plt.subplots(figsize=(9,6))\n",
        "\n",
        "ax.bar(x-width/2,ott_mau.before_covid,width, label='before Covid',alpha=0.5, color='gray' )\n",
        "ax.bar(x+width/2,ott_mau.after_covid,width, label='after Covid' ,alpha=0.5, color='#FFBB00')\n",
        "\n",
        "for i in range(len( ott_mau.name)):\n",
        "    ax.plot(\n",
        "        [x[i] - width / 2, x[i] + width / 2], \n",
        "        [ott_sales.sales_bofore.iloc[i] , ott_sales.sales_after.iloc[i]], \n",
        "        color='white', marker='+',alpha=.6)\n",
        "legend_elements = [ Patch(facecolor='gray',alpha=0.7),\n",
        "                    Patch(facecolor='#FFBB00',alpha=0.7),\n",
        "                    Line2D([0], [0], color='white',alpha=0.7, lw=3),\n",
        "]\n",
        "plt.legend(handles=legend_elements,labels=['Covid-19 전 YAU','Covid-19 후 연 순이용자',' 매출액(단위: 억원)'],\n",
        "            handletextpad=0.5, handlelength=1.0)\n",
        "plt.xticks([ r/2 for r in range(0,len(ott_sales.name )*2,2)], ott_sales.name )\n",
        "\n",
        "fig.suptitle('코로나 전,후 각 OTT 회사별 YAU, 매출액 변화 ', \n",
        "             fontsize=15)\n",
        "plt.xlabel('OTT 회사',fontsize=12)\n",
        "plt.ylabel('(단위: 만명)\\n(단위: 억원)',fontsize=12)\n",
        "colors = [\"#FFBB00\", \"gray\"]"
      ],
      "metadata": {
        "execution": {
          "iopub.status.busy": "2022-01-08T22:27:45.783102Z",
          "iopub.execute_input": "2022-01-08T22:27:45.784536Z",
          "iopub.status.idle": "2022-01-08T22:27:46.099802Z",
          "shell.execute_reply.started": "2022-01-08T22:27:45.784486Z",
          "shell.execute_reply": "2022-01-08T22:27:46.099216Z"
        },
        "trusted": true,
        "colab": {
          "base_uri": "https://localhost:8080/",
          "height": 433
        },
        "id": "Lx6dnNfur0nt",
        "outputId": "2e4b5729-891d-4dd4-f6f5-72b460a83f7f"
      },
      "execution_count": 61,
      "outputs": [
        {
          "output_type": "display_data",
          "data": {
            "image/png": "[encoded data removed]",
            "text/plain": [
              "<Figure size 648x432 with 1 Axes>"
            ]
          },
          "metadata": {}
        }
      ]
    },
    {
      "cell_type": "markdown",
      "source": [
        "### 스트림 양상 비교\n",
        "- 같은 스트림 서비스이나 서비스의 성격이 다른 youtube, Netflix 의 코로나 영향 확인\n",
        "- 결제금액은 비즈니스 모델이 서로 다르기 때문에 직접 비교는 어렵지만 코로나 이후에는 넷플릭스는 가파르게 상승하고, 유튜브는 하락"
      ],
      "metadata": {
        "id": "sgvJ3upkr0oP"
      }
    },
    {
      "cell_type": "code",
      "source": [
        "fig, ax = plt.subplots(figsize=(8,5))\n",
        "df=pd.DataFrame({\n",
        "    'year':['2017','2018','2019','2020','2021(e)'],\n",
        "    'Netflix':[1250,3459,12996,33273,49908],\n",
        "    'Youtube': [115,198,1191,7138,1331]\n",
        "})\n",
        "\n",
        "fig.suptitle('2020 유튜브, 넷플릭스 결제금액 추이', \n",
        "             fontsize=14)\n",
        "plt.xlabel('년도')\n",
        "plt.ylabel('(단위: 백만원)')\n",
        "colors = [\"#FFBB00\", \"gray\"]\n",
        "\n",
        "sns.set_palette(sns.color_palette(colors))\n",
        "ax=sns.lineplot(data=df,x='year' , y= 'Netflix',\n",
        "                color='#FF0B04',sort=True)\n",
        "ax=sns.lineplot(data=df,x='year' , y= 'Youtube',\n",
        "                color='gray',sort=True)\n",
        "\n",
        "for i in range(5):\n",
        "  ax.annotate(df.Netflix[i],(i, df.Netflix[i]),\n",
        "              horizontalalignment='right', verticalalignment='bottom')\n",
        "  ax.annotate(df.Youtube[i],(i, df.Youtube[i]), \n",
        "              horizontalalignment='right', verticalalignment='bottom')\n",
        "\n",
        "\n",
        "ax.annotate('Covid-19 \\n발생',(3, df.Netflix[3]),\n",
        "            xytext=(0.9, 0.9), textcoords='axes fraction',\n",
        "             arrowprops=dict(facecolor='black', shrink=.01 ),\n",
        "            fontsize=11,weight='bold', \n",
        "            horizontalalignment='right', verticalalignment='top')\n",
        "\n",
        "ax.axvspan(3,5, color='#FF0B04', alpha=0.2)\n",
        "ax.set_xlim(0, 4)\n",
        "ax.set_ylim(0, 55000)\n",
        "\n",
        "plt.legend(labels=['Netflix','Youtube'])\n"
      ],
      "metadata": {
        "trusted": true,
        "id": "UU_G-ZnVr0oT",
        "colab": {
          "base_uri": "https://localhost:8080/",
          "height": 387
        },
        "outputId": "57029fbc-9a72-4a3b-94bc-ea8ee9e2d1b1"
      },
      "execution_count": null,
      "outputs": [
        {
          "output_type": "execute_result",
          "data": {
            "text/plain": [
              "<matplotlib.legend.Legend at 0x7f2532594810>"
            ]
          },
          "metadata": {},
          "execution_count": 24
        },
        {
          "output_type": "display_data",
          "data": {
            "image/png": "[encoded data removed]",
            "text/plain": [
              "<Figure size 576x360 with 1 Axes>"
            ]
          },
          "metadata": {}
        }
      ]
    },
    {
      "cell_type": "markdown",
      "source": [
        "### 국내 OTT 시장 규모\n",
        "- 시장규모와 매출액 상승\n",
        "- 점점 더 가파르게 성장"
      ],
      "metadata": {
        "id": "5zzuyDwor0oU"
      }
    },
    {
      "cell_type": "code",
      "source": [
        "\n",
        "df2=pd.DataFrame({   \n",
        "     'year':['2012년','2014년','2016년','2018년','2020년','2021년(e)'],\n",
        "    'mkt_size': [1085,1926,3089,5136,7801,10000]\n",
        "    })\n",
        "\n",
        "growth=pd.DataFrame({   \n",
        "     'year':['2012년','2014년','2016년','2018년','2020년(e)'],\n",
        "     'sales_rev': [None ,1926,3069,5136,7801]\n",
        "    })\n",
        "\n",
        "\n",
        "#legend custom\n",
        "\n",
        "fig, ax = plt.subplots(figsize=(8,5))\n",
        "\n",
        "\n",
        "sns.barplot(data=df2, x='year',y='mkt_size',\n",
        "            palette= [\"#FFBB00\" if x >= 7000 else 'gray' for x in df2.mkt_size ],alpha=0.3)\n",
        "           \n",
        "#annotation\n",
        "for i in range(len(df2.mkt_size)): \n",
        "  plt.text(i, df2.mkt_size[i],df2.mkt_size[i],\n",
        "           horizontalalignment='center',weight='bold' )\n",
        "\n",
        "sns.lineplot(x=growth['year'],y=growth['sales_rev'],\n",
        "             color='green',alpha=0.7)\n",
        "\n",
        "\n",
        "legend_elements = [ Patch(facecolor='gray',alpha=0.7),\n",
        "                    Line2D([0], [0], color='green',alpha=0.7, lw=3),\n",
        "                    Patch(facecolor='#FFBB00',alpha=0.7),\n",
        "]\n",
        "\n",
        "plt.legend(handles=legend_elements,labels=['','매출액','시장 규모'],\n",
        "           prop={'family':font_name.get_name(), 'size':14},\n",
        "           ncol=2, handletextpad=0.5, handlelength=1.0, columnspacing=-3,\n",
        ")\n",
        "fig.suptitle('국내 OTT 시장 규모와 매출액', fontsize=14)\n",
        "plt.xlabel('년도',  )\n",
        "plt.ylabel('(단위: 억원)')\n",
        "plt.xticks( )\n",
        "plt.show()"
      ],
      "metadata": {
        "trusted": true,
        "id": "5KT7ePOxr0oV",
        "colab": {
          "base_uri": "https://localhost:8080/",
          "height": 370
        },
        "outputId": "721afd1a-d43a-4b66-a065-4cbe78f25893"
      },
      "execution_count": null,
      "outputs": [
        {
          "output_type": "display_data",
          "data": {
            "image/png": "[encoded data removed]",
            "text/plain": [
              "<Figure size 576x360 with 1 Axes>"
            ]
          },
          "metadata": {}
        }
      ]
    },
    {
      "cell_type": "markdown",
      "source": [
        "### 통계 데이터\n",
        "- 방송통계포털 2020년 통계자료 사용"
      ],
      "metadata": {
        "id": "x1_hHDGcr0oW"
      }
    },
    {
      "cell_type": "code",
      "source": [
        "\n",
        "ott_platform = pd.read_csv('/content/OTT__2020.csv')\n",
        "ott_mktshr = pd.read_csv('../content/OTT____20192020.csv')\n",
        "\n",
        "print(ott_platform.info(),ott_mktshr.info())"
      ],
      "metadata": {
        "trusted": true,
        "id": "bIKczB08r0oW",
        "colab": {
          "base_uri": "https://localhost:8080/"
        },
        "outputId": "475f4f35-da29-4ad5-fdf3-cf1f40ffc20b"
      },
      "execution_count": null,
      "outputs": [
        {
          "output_type": "stream",
          "name": "stdout",
          "text": [
            "<class 'pandas.core.frame.DataFrame'>\n",
            "RangeIndex: 11 entries, 0 to 10\n",
            "Data columns (total 15 columns):\n",
            " #   Column   Non-Null Count  Dtype \n",
            "---  ------   --------------  ----- \n",
            " 0   구분별(1)   11 non-null     object\n",
            " 1   구분별(2)   11 non-null     object\n",
            " 2   2020     11 non-null     object\n",
            " 3   2020.1   11 non-null     object\n",
            " 4   2020.2   11 non-null     object\n",
            " 5   2020.3   11 non-null     object\n",
            " 6   2020.4   11 non-null     object\n",
            " 7   2020.5   11 non-null     object\n",
            " 8   2020.6   11 non-null     object\n",
            " 9   2020.7   11 non-null     object\n",
            " 10  2020.8   11 non-null     object\n",
            " 11  2020.9   11 non-null     object\n",
            " 12  2020.10  11 non-null     object\n",
            " 13  2020.11  11 non-null     object\n",
            " 14  2020.12  11 non-null     object\n",
            "dtypes: object(15)\n",
            "memory usage: 1.4+ KB\n",
            "<class 'pandas.core.frame.DataFrame'>\n",
            "RangeIndex: 11 entries, 0 to 10\n",
            "Data columns (total 8 columns):\n",
            " #   Column  Non-Null Count  Dtype \n",
            "---  ------  --------------  ----- \n",
            " 0   구분별(1)  11 non-null     object\n",
            " 1   구분별(2)  11 non-null     object\n",
            " 2   2019    11 non-null     object\n",
            " 3   2019.1  11 non-null     object\n",
            " 4   2019.2  11 non-null     object\n",
            " 5   2020    11 non-null     object\n",
            " 6   2020.1  11 non-null     object\n",
            " 7   2020.2  11 non-null     object\n",
            "dtypes: object(8)\n",
            "memory usage: 832.0+ bytes\n",
            "None None\n"
          ]
        }
      ]
    },
    {
      "cell_type": "code",
      "source": [
        "display(ott_platform.head(11),ott_mktshr.head())"
      ],
      "metadata": {
        "trusted": true,
        "id": "qEXP2lqMr0oX",
        "colab": {
          "base_uri": "https://localhost:8080/",
          "height": 891
        },
        "outputId": "9fafcb0f-5285-4284-b855-25bc0859348c"
      },
      "execution_count": null,
      "outputs": [
        {
          "output_type": "display_data",
          "data": {
            "text/html": [
              "\n",
              "  <div id=\"df-ea12f2c0-4e47-4087-8b45-4aba2fc11250\">\n",
              "    <div class=\"colab-df-container\">\n",
              "      <div>\n",
              "<style scoped>\n",
              "    .dataframe tbody tr th:only-of-type {\n",
              "        vertical-align: middle;\n",
              "    }\n",
              "\n",
              "    .dataframe tbody tr th {\n",
              "        vertical-align: top;\n",
              "    }\n",
              "\n",
              "    .dataframe thead th {\n",
              "        text-align: right;\n",
              "    }\n",
              "</style>\n",
              "<table border=\"1\" class=\"dataframe\">\n",
              "  <thead>\n",
              "    <tr style=\"text-align: right;\">\n",
              "      <th></th>\n",
              "      <th>구분별(1)</th>\n",
              "      <th>구분별(2)</th>\n",
              "      <th>2020</th>\n",
              "      <th>2020.1</th>\n",
              "      <th>2020.2</th>\n",
              "      <th>2020.3</th>\n",
              "      <th>2020.4</th>\n",
              "      <th>2020.5</th>\n",
              "      <th>2020.6</th>\n",
              "      <th>2020.7</th>\n",
              "      <th>2020.8</th>\n",
              "      <th>2020.9</th>\n",
              "      <th>2020.10</th>\n",
              "      <th>2020.11</th>\n",
              "      <th>2020.12</th>\n",
              "    </tr>\n",
              "  </thead>\n",
              "  <tbody>\n",
              "    <tr>\n",
              "      <th>0</th>\n",
              "      <td>구분별(1)</td>\n",
              "      <td>구분별(2)</td>\n",
              "      <td>사례수 (명)</td>\n",
              "      <td>U+모바일 TV (%)</td>\n",
              "      <td>Tving (%)</td>\n",
              "      <td>V live (%)</td>\n",
              "      <td>아프리카 TV (%)</td>\n",
              "      <td>왓챠플레이 (%)</td>\n",
              "      <td>곰TV (%)</td>\n",
              "      <td>유튜브 (%)</td>\n",
              "      <td>넷플릭스 (%)</td>\n",
              "      <td>Wavve (%)</td>\n",
              "      <td>시즌 (%)</td>\n",
              "      <td>기타 (%)</td>\n",
              "      <td>이용한적 없음 (%)</td>\n",
              "    </tr>\n",
              "    <tr>\n",
              "      <th>1</th>\n",
              "      <td>전체</td>\n",
              "      <td>소계</td>\n",
              "      <td>3999</td>\n",
              "      <td>1.1</td>\n",
              "      <td>1.5</td>\n",
              "      <td>0.1</td>\n",
              "      <td>0.3</td>\n",
              "      <td>0.3</td>\n",
              "      <td>0.0</td>\n",
              "      <td>8.2</td>\n",
              "      <td>11.6</td>\n",
              "      <td>2.3</td>\n",
              "      <td>0.5</td>\n",
              "      <td>0.0</td>\n",
              "      <td>78.3</td>\n",
              "    </tr>\n",
              "    <tr>\n",
              "      <th>2</th>\n",
              "      <td>성별</td>\n",
              "      <td>남자</td>\n",
              "      <td>2087</td>\n",
              "      <td>1.3</td>\n",
              "      <td>1.9</td>\n",
              "      <td>0.0</td>\n",
              "      <td>0.4</td>\n",
              "      <td>0.2</td>\n",
              "      <td>0.0</td>\n",
              "      <td>9.1</td>\n",
              "      <td>10.8</td>\n",
              "      <td>2.5</td>\n",
              "      <td>0.4</td>\n",
              "      <td>0.0</td>\n",
              "      <td>77.3</td>\n",
              "    </tr>\n",
              "    <tr>\n",
              "      <th>3</th>\n",
              "      <td>성별</td>\n",
              "      <td>여자</td>\n",
              "      <td>1912</td>\n",
              "      <td>0.8</td>\n",
              "      <td>1.1</td>\n",
              "      <td>0.3</td>\n",
              "      <td>0.1</td>\n",
              "      <td>0.5</td>\n",
              "      <td>0.1</td>\n",
              "      <td>7.2</td>\n",
              "      <td>12.4</td>\n",
              "      <td>2.2</td>\n",
              "      <td>0.6</td>\n",
              "      <td>0.1</td>\n",
              "      <td>79.3</td>\n",
              "    </tr>\n",
              "    <tr>\n",
              "      <th>4</th>\n",
              "      <td>연령</td>\n",
              "      <td>10대</td>\n",
              "      <td>453</td>\n",
              "      <td>3.1</td>\n",
              "      <td>1.1</td>\n",
              "      <td>0.0</td>\n",
              "      <td>0.5</td>\n",
              "      <td>0.1</td>\n",
              "      <td>0.0</td>\n",
              "      <td>6.1</td>\n",
              "      <td>11.4</td>\n",
              "      <td>0.9</td>\n",
              "      <td>2.1</td>\n",
              "      <td>0.0</td>\n",
              "      <td>79.6</td>\n",
              "    </tr>\n",
              "    <tr>\n",
              "      <th>5</th>\n",
              "      <td>연령</td>\n",
              "      <td>20대</td>\n",
              "      <td>835</td>\n",
              "      <td>1.7</td>\n",
              "      <td>2.1</td>\n",
              "      <td>0.6</td>\n",
              "      <td>0.7</td>\n",
              "      <td>1.2</td>\n",
              "      <td>0.0</td>\n",
              "      <td>11.7</td>\n",
              "      <td>18.1</td>\n",
              "      <td>5.1</td>\n",
              "      <td>0.8</td>\n",
              "      <td>0.0</td>\n",
              "      <td>66.6</td>\n",
              "    </tr>\n",
              "    <tr>\n",
              "      <th>6</th>\n",
              "      <td>연령</td>\n",
              "      <td>30대</td>\n",
              "      <td>831</td>\n",
              "      <td>0.9</td>\n",
              "      <td>2.8</td>\n",
              "      <td>0.0</td>\n",
              "      <td>0.1</td>\n",
              "      <td>0.3</td>\n",
              "      <td>0.1</td>\n",
              "      <td>8.6</td>\n",
              "      <td>20.2</td>\n",
              "      <td>4.2</td>\n",
              "      <td>0.4</td>\n",
              "      <td>0.0</td>\n",
              "      <td>69.9</td>\n",
              "    </tr>\n",
              "    <tr>\n",
              "      <th>7</th>\n",
              "      <td>연령</td>\n",
              "      <td>40대</td>\n",
              "      <td>800</td>\n",
              "      <td>0.9</td>\n",
              "      <td>0.7</td>\n",
              "      <td>0.0</td>\n",
              "      <td>0.0</td>\n",
              "      <td>0.0</td>\n",
              "      <td>0.0</td>\n",
              "      <td>7.6</td>\n",
              "      <td>7.6</td>\n",
              "      <td>0.9</td>\n",
              "      <td>0.0</td>\n",
              "      <td>0.0</td>\n",
              "      <td>82.4</td>\n",
              "    </tr>\n",
              "    <tr>\n",
              "      <th>8</th>\n",
              "      <td>연령</td>\n",
              "      <td>50대</td>\n",
              "      <td>713</td>\n",
              "      <td>0.0</td>\n",
              "      <td>1.3</td>\n",
              "      <td>0.0</td>\n",
              "      <td>0.1</td>\n",
              "      <td>0.0</td>\n",
              "      <td>0.0</td>\n",
              "      <td>6.1</td>\n",
              "      <td>3.4</td>\n",
              "      <td>0.6</td>\n",
              "      <td>0.0</td>\n",
              "      <td>0.2</td>\n",
              "      <td>89.6</td>\n",
              "    </tr>\n",
              "    <tr>\n",
              "      <th>9</th>\n",
              "      <td>연령</td>\n",
              "      <td>60대</td>\n",
              "      <td>294</td>\n",
              "      <td>0.0</td>\n",
              "      <td>0.0</td>\n",
              "      <td>0.0</td>\n",
              "      <td>0.0</td>\n",
              "      <td>0.0</td>\n",
              "      <td>0.0</td>\n",
              "      <td>7.3</td>\n",
              "      <td>1.5</td>\n",
              "      <td>0.0</td>\n",
              "      <td>0.0</td>\n",
              "      <td>0.0</td>\n",
              "      <td>91.3</td>\n",
              "    </tr>\n",
              "    <tr>\n",
              "      <th>10</th>\n",
              "      <td>연령</td>\n",
              "      <td>70세 이상</td>\n",
              "      <td>72</td>\n",
              "      <td>0.0</td>\n",
              "      <td>0.0</td>\n",
              "      <td>0.0</td>\n",
              "      <td>0.0</td>\n",
              "      <td>0.0</td>\n",
              "      <td>0.0</td>\n",
              "      <td>5.7</td>\n",
              "      <td>3.0</td>\n",
              "      <td>0.0</td>\n",
              "      <td>0.0</td>\n",
              "      <td>0.0</td>\n",
              "      <td>91.4</td>\n",
              "    </tr>\n",
              "  </tbody>\n",
              "</table>\n",
              "</div>\n",
              "      <button class=\"colab-df-convert\" onclick=\"convertToInteractive('df-ea12f2c0-4e47-4087-8b45-4aba2fc11250')\"\n",
              "              title=\"Convert this dataframe to an interactive table.\"\n",
              "              style=\"display:none;\">\n",
              "        \n",
              "  <svg xmlns=\"http://www.w3.org/2000/svg\" height=\"24px\"viewBox=\"0 0 24 24\"\n",
              "       width=\"24px\">\n",
              "    <path d=\"M0 0h24v24H0V0z\" fill=\"none\"/>\n",
              "    <path d=\"M18.56 5.44l.94 2.06.94-2.06 2.06-.94-2.06-.94-.94-2.06-.94 2.06-2.06.94zm-11 1L8.5 8.5l.94-2.06 2.06-.94-2.06-.94L8.5 2.5l-.94 2.06-2.06.94zm10 10l.94 2.06.94-2.06 2.06-.94-2.06-.94-.94-2.06-.94 2.06-2.06.94z\"/><path d=\"M17.41 7.96l-1.37-1.37c-.4-.4-.92-.59-1.43-.59-.52 0-1.04.2-1.43.59L10.3 9.45l-7.72 7.72c-.78.78-.78 2.05 0 2.83L4 21.41c.39.39.9.59 1.41.59.51 0 1.02-.2 1.41-.59l7.78-7.78 2.81-2.81c.8-.78.8-2.07 0-2.86zM5.41 20L4 18.59l7.72-7.72 1.47 1.35L5.41 20z\"/>\n",
              "  </svg>\n",
              "      </button>\n",
              "      \n",
              "  <style>\n",
              "    .colab-df-container {\n",
              "      display:flex;\n",
              "      flex-wrap:wrap;\n",
              "      gap: 12px;\n",
              "    }\n",
              "\n",
              "    .colab-df-convert {\n",
              "      background-color: #E8F0FE;\n",
              "      border: none;\n",
              "      border-radius: 50%;\n",
              "      cursor: pointer;\n",
              "      display: none;\n",
              "      fill: #1967D2;\n",
              "      height: 32px;\n",
              "      padding: 0 0 0 0;\n",
              "      width: 32px;\n",
              "    }\n",
              "\n",
              "    .colab-df-convert:hover {\n",
              "      background-color: #E2EBFA;\n",
              "      box-shadow: 0px 1px 2px rgba(60, 64, 67, 0.3), 0px 1px 3px 1px rgba(60, 64, 67, 0.15);\n",
              "      fill: #174EA6;\n",
              "    }\n",
              "\n",
              "    [theme=dark] .colab-df-convert {\n",
              "      background-color: #3B4455;\n",
              "      fill: #D2E3FC;\n",
              "    }\n",
              "\n",
              "    [theme=dark] .colab-df-convert:hover {\n",
              "      background-color: #434B5C;\n",
              "      box-shadow: 0px 1px 3px 1px rgba(0, 0, 0, 0.15);\n",
              "      filter: drop-shadow(0px 1px 2px rgba(0, 0, 0, 0.3));\n",
              "      fill: #FFFFFF;\n",
              "    }\n",
              "  </style>\n",
              "\n",
              "      <script>\n",
              "        const buttonEl =\n",
              "          document.querySelector('#df-ea12f2c0-4e47-4087-8b45-4aba2fc11250 button.colab-df-convert');\n",
              "        buttonEl.style.display =\n",
              "          google.colab.kernel.accessAllowed ? 'block' : 'none';\n",
              "\n",
              "        async function convertToInteractive(key) {\n",
              "          const element = document.querySelector('#df-ea12f2c0-4e47-4087-8b45-4aba2fc11250');\n",
              "          const dataTable =\n",
              "            await google.colab.kernel.invokeFunction('convertToInteractive',\n",
              "                                                     [key], {});\n",
              "          if (!dataTable) return;\n",
              "\n",
              "          const docLinkHtml = 'Like what you see? Visit the ' +\n",
              "            '<a target=\"_blank\" href=https://colab.research.google.com/notebooks/data_table.ipynb>data table notebook</a>'\n",
              "            + ' to learn more about interactive tables.';\n",
              "          element.innerHTML = '';\n",
              "          dataTable['output_type'] = 'display_data';\n",
              "          await google.colab.output.renderOutput(dataTable, element);\n",
              "          const docLink = document.createElement('div');\n",
              "          docLink.innerHTML = docLinkHtml;\n",
              "          element.appendChild(docLink);\n",
              "        }\n",
              "      </script>\n",
              "    </div>\n",
              "  </div>\n",
              "  "
            ],
            "text/plain": [
              "    구분별(1)  구분별(2)     2020  ... 2020.10 2020.11      2020.12\n",
              "0   구분별(1)  구분별(2)  사례수 (명)  ...  시즌 (%)  기타 (%)  이용한적 없음 (%)\n",
              "1       전체      소계     3999  ...     0.5     0.0         78.3\n",
              "2       성별      남자     2087  ...     0.4     0.0         77.3\n",
              "3       성별      여자     1912  ...     0.6     0.1         79.3\n",
              "4       연령     10대      453  ...     2.1     0.0         79.6\n",
              "5       연령     20대      835  ...     0.8     0.0         66.6\n",
              "6       연령     30대      831  ...     0.4     0.0         69.9\n",
              "7       연령     40대      800  ...     0.0     0.0         82.4\n",
              "8       연령     50대      713  ...     0.0     0.2         89.6\n",
              "9       연령     60대      294  ...     0.0     0.0         91.3\n",
              "10      연령  70세 이상       72  ...     0.0     0.0         91.4\n",
              "\n",
              "[11 rows x 15 columns]"
            ]
          },
          "metadata": {}
        },
        {
          "output_type": "display_data",
          "data": {
            "text/html": [
              "\n",
              "  <div id=\"df-a4450ad4-5339-48d4-9cf8-e27f223a5442\">\n",
              "    <div class=\"colab-df-container\">\n",
              "      <div>\n",
              "<style scoped>\n",
              "    .dataframe tbody tr th:only-of-type {\n",
              "        vertical-align: middle;\n",
              "    }\n",
              "\n",
              "    .dataframe tbody tr th {\n",
              "        vertical-align: top;\n",
              "    }\n",
              "\n",
              "    .dataframe thead th {\n",
              "        text-align: right;\n",
              "    }\n",
              "</style>\n",
              "<table border=\"1\" class=\"dataframe\">\n",
              "  <thead>\n",
              "    <tr style=\"text-align: right;\">\n",
              "      <th></th>\n",
              "      <th>구분별(1)</th>\n",
              "      <th>구분별(2)</th>\n",
              "      <th>2019</th>\n",
              "      <th>2019.1</th>\n",
              "      <th>2019.2</th>\n",
              "      <th>2020</th>\n",
              "      <th>2020.1</th>\n",
              "      <th>2020.2</th>\n",
              "    </tr>\n",
              "  </thead>\n",
              "  <tbody>\n",
              "    <tr>\n",
              "      <th>0</th>\n",
              "      <td>구분별(1)</td>\n",
              "      <td>구분별(2)</td>\n",
              "      <td>사례수 (명)</td>\n",
              "      <td>이용한 적이 있다 (%)</td>\n",
              "      <td>이용한 적이 없다 (%)</td>\n",
              "      <td>사례수 (명)</td>\n",
              "      <td>이용한 적이 있다 (%)</td>\n",
              "      <td>이용한 적이 없다 (%)</td>\n",
              "    </tr>\n",
              "    <tr>\n",
              "      <th>1</th>\n",
              "      <td>전체</td>\n",
              "      <td>소계</td>\n",
              "      <td>3316</td>\n",
              "      <td>92.5</td>\n",
              "      <td>7.5</td>\n",
              "      <td>3999</td>\n",
              "      <td>93.6</td>\n",
              "      <td>6.4</td>\n",
              "    </tr>\n",
              "    <tr>\n",
              "      <th>2</th>\n",
              "      <td>성별</td>\n",
              "      <td>남자</td>\n",
              "      <td>1771</td>\n",
              "      <td>91.8</td>\n",
              "      <td>8.2</td>\n",
              "      <td>2087</td>\n",
              "      <td>93.6</td>\n",
              "      <td>6.4</td>\n",
              "    </tr>\n",
              "    <tr>\n",
              "      <th>3</th>\n",
              "      <td>성별</td>\n",
              "      <td>여자</td>\n",
              "      <td>1544</td>\n",
              "      <td>93.3</td>\n",
              "      <td>6.7</td>\n",
              "      <td>1912</td>\n",
              "      <td>93.7</td>\n",
              "      <td>6.3</td>\n",
              "    </tr>\n",
              "    <tr>\n",
              "      <th>4</th>\n",
              "      <td>연령</td>\n",
              "      <td>10대</td>\n",
              "      <td>506</td>\n",
              "      <td>89.4</td>\n",
              "      <td>10.6</td>\n",
              "      <td>453</td>\n",
              "      <td>95.7</td>\n",
              "      <td>4.3</td>\n",
              "    </tr>\n",
              "  </tbody>\n",
              "</table>\n",
              "</div>\n",
              "      <button class=\"colab-df-convert\" onclick=\"convertToInteractive('df-a4450ad4-5339-48d4-9cf8-e27f223a5442')\"\n",
              "              title=\"Convert this dataframe to an interactive table.\"\n",
              "              style=\"display:none;\">\n",
              "        \n",
              "  <svg xmlns=\"http://www.w3.org/2000/svg\" height=\"24px\"viewBox=\"0 0 24 24\"\n",
              "       width=\"24px\">\n",
              "    <path d=\"M0 0h24v24H0V0z\" fill=\"none\"/>\n",
              "    <path d=\"M18.56 5.44l.94 2.06.94-2.06 2.06-.94-2.06-.94-.94-2.06-.94 2.06-2.06.94zm-11 1L8.5 8.5l.94-2.06 2.06-.94-2.06-.94L8.5 2.5l-.94 2.06-2.06.94zm10 10l.94 2.06.94-2.06 2.06-.94-2.06-.94-.94-2.06-.94 2.06-2.06.94z\"/><path d=\"M17.41 7.96l-1.37-1.37c-.4-.4-.92-.59-1.43-.59-.52 0-1.04.2-1.43.59L10.3 9.45l-7.72 7.72c-.78.78-.78 2.05 0 2.83L4 21.41c.39.39.9.59 1.41.59.51 0 1.02-.2 1.41-.59l7.78-7.78 2.81-2.81c.8-.78.8-2.07 0-2.86zM5.41 20L4 18.59l7.72-7.72 1.47 1.35L5.41 20z\"/>\n",
              "  </svg>\n",
              "      </button>\n",
              "      \n",
              "  <style>\n",
              "    .colab-df-container {\n",
              "      display:flex;\n",
              "      flex-wrap:wrap;\n",
              "      gap: 12px;\n",
              "    }\n",
              "\n",
              "    .colab-df-convert {\n",
              "      background-color: #E8F0FE;\n",
              "      border: none;\n",
              "      border-radius: 50%;\n",
              "      cursor: pointer;\n",
              "      display: none;\n",
              "      fill: #1967D2;\n",
              "      height: 32px;\n",
              "      padding: 0 0 0 0;\n",
              "      width: 32px;\n",
              "    }\n",
              "\n",
              "    .colab-df-convert:hover {\n",
              "      background-color: #E2EBFA;\n",
              "      box-shadow: 0px 1px 2px rgba(60, 64, 67, 0.3), 0px 1px 3px 1px rgba(60, 64, 67, 0.15);\n",
              "      fill: #174EA6;\n",
              "    }\n",
              "\n",
              "    [theme=dark] .colab-df-convert {\n",
              "      background-color: #3B4455;\n",
              "      fill: #D2E3FC;\n",
              "    }\n",
              "\n",
              "    [theme=dark] .colab-df-convert:hover {\n",
              "      background-color: #434B5C;\n",
              "      box-shadow: 0px 1px 3px 1px rgba(0, 0, 0, 0.15);\n",
              "      filter: drop-shadow(0px 1px 2px rgba(0, 0, 0, 0.3));\n",
              "      fill: #FFFFFF;\n",
              "    }\n",
              "  </style>\n",
              "\n",
              "      <script>\n",
              "        const buttonEl =\n",
              "          document.querySelector('#df-a4450ad4-5339-48d4-9cf8-e27f223a5442 button.colab-df-convert');\n",
              "        buttonEl.style.display =\n",
              "          google.colab.kernel.accessAllowed ? 'block' : 'none';\n",
              "\n",
              "        async function convertToInteractive(key) {\n",
              "          const element = document.querySelector('#df-a4450ad4-5339-48d4-9cf8-e27f223a5442');\n",
              "          const dataTable =\n",
              "            await google.colab.kernel.invokeFunction('convertToInteractive',\n",
              "                                                     [key], {});\n",
              "          if (!dataTable) return;\n",
              "\n",
              "          const docLinkHtml = 'Like what you see? Visit the ' +\n",
              "            '<a target=\"_blank\" href=https://colab.research.google.com/notebooks/data_table.ipynb>data table notebook</a>'\n",
              "            + ' to learn more about interactive tables.';\n",
              "          element.innerHTML = '';\n",
              "          dataTable['output_type'] = 'display_data';\n",
              "          await google.colab.output.renderOutput(dataTable, element);\n",
              "          const docLink = document.createElement('div');\n",
              "          docLink.innerHTML = docLinkHtml;\n",
              "          element.appendChild(docLink);\n",
              "        }\n",
              "      </script>\n",
              "    </div>\n",
              "  </div>\n",
              "  "
            ],
            "text/plain": [
              "   구분별(1)  구분별(2)     2019  ...     2020         2020.1         2020.2\n",
              "0  구분별(1)  구분별(2)  사례수 (명)  ...  사례수 (명)  이용한 적이 있다 (%)  이용한 적이 없다 (%)\n",
              "1      전체      소계     3316  ...     3999           93.6            6.4\n",
              "2      성별      남자     1771  ...     2087           93.6            6.4\n",
              "3      성별      여자     1544  ...     1912           93.7            6.3\n",
              "4      연령     10대      506  ...      453           95.7            4.3\n",
              "\n",
              "[5 rows x 8 columns]"
            ]
          },
          "metadata": {}
        }
      ]
    },
    {
      "cell_type": "code",
      "source": [
        "tmp=ott_platform.melt( id_vars=['구분별(2)'],var_name='구분',value_name='시청수')\n",
        "tmp=tmp[tmp['시청수'].str.isnumeric()][1:]\n",
        "tmp.head(20)"
      ],
      "metadata": {
        "trusted": true,
        "id": "IH88VXIYr0oX",
        "colab": {
          "base_uri": "https://localhost:8080/",
          "height": 332
        },
        "outputId": "20c45210-5b8a-40c1-b55e-e59899c2d320"
      },
      "execution_count": null,
      "outputs": [
        {
          "output_type": "execute_result",
          "data": {
            "text/html": [
              "\n",
              "  <div id=\"df-19841cb7-9def-4a9b-ad69-293229e320e9\">\n",
              "    <div class=\"colab-df-container\">\n",
              "      <div>\n",
              "<style scoped>\n",
              "    .dataframe tbody tr th:only-of-type {\n",
              "        vertical-align: middle;\n",
              "    }\n",
              "\n",
              "    .dataframe tbody tr th {\n",
              "        vertical-align: top;\n",
              "    }\n",
              "\n",
              "    .dataframe thead th {\n",
              "        text-align: right;\n",
              "    }\n",
              "</style>\n",
              "<table border=\"1\" class=\"dataframe\">\n",
              "  <thead>\n",
              "    <tr style=\"text-align: right;\">\n",
              "      <th></th>\n",
              "      <th>구분별(2)</th>\n",
              "      <th>구분</th>\n",
              "      <th>시청수</th>\n",
              "    </tr>\n",
              "  </thead>\n",
              "  <tbody>\n",
              "    <tr>\n",
              "      <th>13</th>\n",
              "      <td>남자</td>\n",
              "      <td>2020</td>\n",
              "      <td>2087</td>\n",
              "    </tr>\n",
              "    <tr>\n",
              "      <th>14</th>\n",
              "      <td>여자</td>\n",
              "      <td>2020</td>\n",
              "      <td>1912</td>\n",
              "    </tr>\n",
              "    <tr>\n",
              "      <th>15</th>\n",
              "      <td>10대</td>\n",
              "      <td>2020</td>\n",
              "      <td>453</td>\n",
              "    </tr>\n",
              "    <tr>\n",
              "      <th>16</th>\n",
              "      <td>20대</td>\n",
              "      <td>2020</td>\n",
              "      <td>835</td>\n",
              "    </tr>\n",
              "    <tr>\n",
              "      <th>17</th>\n",
              "      <td>30대</td>\n",
              "      <td>2020</td>\n",
              "      <td>831</td>\n",
              "    </tr>\n",
              "    <tr>\n",
              "      <th>18</th>\n",
              "      <td>40대</td>\n",
              "      <td>2020</td>\n",
              "      <td>800</td>\n",
              "    </tr>\n",
              "    <tr>\n",
              "      <th>19</th>\n",
              "      <td>50대</td>\n",
              "      <td>2020</td>\n",
              "      <td>713</td>\n",
              "    </tr>\n",
              "    <tr>\n",
              "      <th>20</th>\n",
              "      <td>60대</td>\n",
              "      <td>2020</td>\n",
              "      <td>294</td>\n",
              "    </tr>\n",
              "    <tr>\n",
              "      <th>21</th>\n",
              "      <td>70세 이상</td>\n",
              "      <td>2020</td>\n",
              "      <td>72</td>\n",
              "    </tr>\n",
              "  </tbody>\n",
              "</table>\n",
              "</div>\n",
              "      <button class=\"colab-df-convert\" onclick=\"convertToInteractive('df-19841cb7-9def-4a9b-ad69-293229e320e9')\"\n",
              "              title=\"Convert this dataframe to an interactive table.\"\n",
              "              style=\"display:none;\">\n",
              "        \n",
              "  <svg xmlns=\"http://www.w3.org/2000/svg\" height=\"24px\"viewBox=\"0 0 24 24\"\n",
              "       width=\"24px\">\n",
              "    <path d=\"M0 0h24v24H0V0z\" fill=\"none\"/>\n",
              "    <path d=\"M18.56 5.44l.94 2.06.94-2.06 2.06-.94-2.06-.94-.94-2.06-.94 2.06-2.06.94zm-11 1L8.5 8.5l.94-2.06 2.06-.94-2.06-.94L8.5 2.5l-.94 2.06-2.06.94zm10 10l.94 2.06.94-2.06 2.06-.94-2.06-.94-.94-2.06-.94 2.06-2.06.94z\"/><path d=\"M17.41 7.96l-1.37-1.37c-.4-.4-.92-.59-1.43-.59-.52 0-1.04.2-1.43.59L10.3 9.45l-7.72 7.72c-.78.78-.78 2.05 0 2.83L4 21.41c.39.39.9.59 1.41.59.51 0 1.02-.2 1.41-.59l7.78-7.78 2.81-2.81c.8-.78.8-2.07 0-2.86zM5.41 20L4 18.59l7.72-7.72 1.47 1.35L5.41 20z\"/>\n",
              "  </svg>\n",
              "      </button>\n",
              "      \n",
              "  <style>\n",
              "    .colab-df-container {\n",
              "      display:flex;\n",
              "      flex-wrap:wrap;\n",
              "      gap: 12px;\n",
              "    }\n",
              "\n",
              "    .colab-df-convert {\n",
              "      background-color: #E8F0FE;\n",
              "      border: none;\n",
              "      border-radius: 50%;\n",
              "      cursor: pointer;\n",
              "      display: none;\n",
              "      fill: #1967D2;\n",
              "      height: 32px;\n",
              "      padding: 0 0 0 0;\n",
              "      width: 32px;\n",
              "    }\n",
              "\n",
              "    .colab-df-convert:hover {\n",
              "      background-color: #E2EBFA;\n",
              "      box-shadow: 0px 1px 2px rgba(60, 64, 67, 0.3), 0px 1px 3px 1px rgba(60, 64, 67, 0.15);\n",
              "      fill: #174EA6;\n",
              "    }\n",
              "\n",
              "    [theme=dark] .colab-df-convert {\n",
              "      background-color: #3B4455;\n",
              "      fill: #D2E3FC;\n",
              "    }\n",
              "\n",
              "    [theme=dark] .colab-df-convert:hover {\n",
              "      background-color: #434B5C;\n",
              "      box-shadow: 0px 1px 3px 1px rgba(0, 0, 0, 0.15);\n",
              "      filter: drop-shadow(0px 1px 2px rgba(0, 0, 0, 0.3));\n",
              "      fill: #FFFFFF;\n",
              "    }\n",
              "  </style>\n",
              "\n",
              "      <script>\n",
              "        const buttonEl =\n",
              "          document.querySelector('#df-19841cb7-9def-4a9b-ad69-293229e320e9 button.colab-df-convert');\n",
              "        buttonEl.style.display =\n",
              "          google.colab.kernel.accessAllowed ? 'block' : 'none';\n",
              "\n",
              "        async function convertToInteractive(key) {\n",
              "          const element = document.querySelector('#df-19841cb7-9def-4a9b-ad69-293229e320e9');\n",
              "          const dataTable =\n",
              "            await google.colab.kernel.invokeFunction('convertToInteractive',\n",
              "                                                     [key], {});\n",
              "          if (!dataTable) return;\n",
              "\n",
              "          const docLinkHtml = 'Like what you see? Visit the ' +\n",
              "            '<a target=\"_blank\" href=https://colab.research.google.com/notebooks/data_table.ipynb>data table notebook</a>'\n",
              "            + ' to learn more about interactive tables.';\n",
              "          element.innerHTML = '';\n",
              "          dataTable['output_type'] = 'display_data';\n",
              "          await google.colab.output.renderOutput(dataTable, element);\n",
              "          const docLink = document.createElement('div');\n",
              "          docLink.innerHTML = docLinkHtml;\n",
              "          element.appendChild(docLink);\n",
              "        }\n",
              "      </script>\n",
              "    </div>\n",
              "  </div>\n",
              "  "
            ],
            "text/plain": [
              "    구분별(2)    구분   시청수\n",
              "13      남자  2020  2087\n",
              "14      여자  2020  1912\n",
              "15     10대  2020   453\n",
              "16     20대  2020   835\n",
              "17     30대  2020   831\n",
              "18     40대  2020   800\n",
              "19     50대  2020   713\n",
              "20     60대  2020   294\n",
              "21  70세 이상  2020    72"
            ]
          },
          "metadata": {},
          "execution_count": 28
        }
      ]
    },
    {
      "cell_type": "code",
      "source": [
        "tmp['시청수']=pd.to_numeric(tmp['시청수'])\n",
        "tmp['prop']=round(tmp['시청수']/tmp['시청수'][:2].sum(),3)\n",
        "tmp[2:].prop"
      ],
      "metadata": {
        "trusted": true,
        "id": "OkU0A5qWr0oY",
        "colab": {
          "base_uri": "https://localhost:8080/"
        },
        "outputId": "27897c55-57b5-4778-a28a-d60cb6ad6fd7"
      },
      "execution_count": null,
      "outputs": [
        {
          "output_type": "execute_result",
          "data": {
            "text/plain": [
              "15    0.113\n",
              "16    0.209\n",
              "17    0.208\n",
              "18    0.200\n",
              "19    0.178\n",
              "20    0.074\n",
              "21    0.018\n",
              "Name: prop, dtype: float64"
            ]
          },
          "metadata": {},
          "execution_count": 29
        }
      ]
    },
    {
      "cell_type": "code",
      "source": [
        "list( 'maroon' if x >=0.15  else 'gray' for x in tmp.iloc[2:].prop)"
      ],
      "metadata": {
        "trusted": true,
        "id": "4eP4y54tr0oY",
        "colab": {
          "base_uri": "https://localhost:8080/"
        },
        "outputId": "d0225532-50d4-4ad8-fc06-4ded3c5eea52"
      },
      "execution_count": null,
      "outputs": [
        {
          "output_type": "execute_result",
          "data": {
            "text/plain": [
              "['gray', 'maroon', 'maroon', 'maroon', 'maroon', 'gray', 'gray']"
            ]
          },
          "metadata": {},
          "execution_count": 30
        }
      ]
    },
    {
      "cell_type": "markdown",
      "source": [
        "### OTT 구독자 파악\n",
        "- 연령은 20~50대가 주\n",
        "- 성별 영향은 거의 없다"
      ],
      "metadata": {
        "id": "Vhhcfr33r0oh"
      }
    },
    {
      "cell_type": "code",
      "source": [
        "fig, axes = plt.subplots(2,1, figsize=(10, 8))\n",
        "sorted_views=tmp[2:].sort_values( by='시청수',ascending=False)\n",
        "plt.subplot(1,2, 1)               \n",
        "plt.title('연령에 따른 OTT 구독자', fontsize=14)\n",
        "colors = ['#ff9999','#66b3ff','#99ff99','#ffcc99','#c2c2f0','#ffb3e6','purple']\n",
        "\n",
        "pie_chart1=plt.pie(tmp.iloc[2:]['시청수'],\n",
        "        colors=colors,\n",
        "        explode=tuple( ( 0.05 if x >=0.15  else 0 for x in tmp.iloc[2:].prop )),\n",
        "autopct='%.1f%%')\n",
        "\n",
        "for i in range(len(pie_chart1[0])):\n",
        "    pie_chart1[0][i].set_alpha(0.5)\n",
        "    \n",
        "plt.legend(tmp.iloc[2:]['구분별(2)'],loc='upper right')\n",
        "\n",
        "plt.subplot( 1,2,2)       \n",
        "pie_chart2=plt.pie(tmp.iloc[:2].sort_values( by='시청수',ascending=False)['시청수'], \n",
        "       textprops={'size': 'x-large','color':'white','family':font_name.get_name()},labels=['남자','여자'],\n",
        "        explode=tuple( ( 0.1 if x >=0.5  else 0 for x in tmp.iloc[:2].prop )),\n",
        "        colors= list('#FFBB00' if x >=0.5  else 'gray' for x in tmp.iloc[:2].prop),\n",
        "        autopct='%.1f%%')\n",
        "\n",
        "for i in range(len(pie_chart2[0])):\n",
        "    pie_chart2[0][i].set_alpha(0.5)\n",
        "    \n",
        "plt.tight_layout()\n",
        "\n",
        "plt.title('성별에 따른 OTT 구독자', fontsize=14, weight='bold')\n",
        "\n",
        "plt.legend(['Male','Female'])\n",
        "plt.show()\n"
      ],
      "metadata": {
        "trusted": true,
        "id": "sy1LRbYtr0ok",
        "colab": {
          "base_uri": "https://localhost:8080/",
          "height": 393
        },
        "outputId": "6a94ecfc-e37f-493e-ffff-8944908c9280"
      },
      "execution_count": null,
      "outputs": [
        {
          "output_type": "display_data",
          "data": {
            "image/png": "[encoded data removed]",
            "text/plain": [
              "<Figure size 720x576 with 2 Axes>"
            ]
          },
          "metadata": {}
        }
      ]
    },
    {
      "cell_type": "code",
      "source": [
        "ott_mktshr=ott_mktshr.iloc[1:,1:]\n",
        "ott_mktshr_prop=ott_mktshr[['구분별(2)','2019','2020']]\n",
        "ott_mktshr_prop[['2019','2020']] = ott_mktshr_prop[['2019','2020']].apply(pd.to_numeric)\n",
        "ott_mktshr[['2019.1','2020.1']] = ott_mktshr[['2019.1','2020.1']].apply(pd.to_numeric)\n",
        "ott_mktshr_prop,ott_mktshr"
      ],
      "metadata": {
        "trusted": true,
        "id": "KCV36y7rr0ol",
        "colab": {
          "base_uri": "https://localhost:8080/"
        },
        "outputId": "007311c1-677f-464d-f216-35bef920af1d"
      },
      "execution_count": null,
      "outputs": [
        {
          "output_type": "stream",
          "name": "stderr",
          "text": [
            "/usr/local/lib/python3.7/dist-packages/pandas/core/frame.py:3069: SettingWithCopyWarning: \n",
            "A value is trying to be set on a copy of a slice from a DataFrame.\n",
            "Try using .loc[row_indexer,col_indexer] = value instead\n",
            "\n",
            "See the caveats in the documentation: https://pandas.pydata.org/pandas-docs/stable/user_guide/indexing.html#returning-a-view-versus-a-copy\n",
            "  self[k1] = value[k2]\n"
          ]
        },
        {
          "output_type": "execute_result",
          "data": {
            "text/plain": [
              "(    구분별(2)  2019  2020\n",
              " 1       소계  3316  3999\n",
              " 2       남자  1771  2087\n",
              " 3       여자  1544  1912\n",
              " 4      10대   506   453\n",
              " 5      20대   783   835\n",
              " 6      30대   764   831\n",
              " 7      40대   658   800\n",
              " 8      50대   407   713\n",
              " 9      60대   168   294\n",
              " 10  70세 이상    29    72,     구분별(2)  2019  2019.1 2019.2  2020  2020.1 2020.2\n",
              " 1       소계  3316    92.5    7.5  3999    93.6    6.4\n",
              " 2       남자  1771    91.8    8.2  2087    93.6    6.4\n",
              " 3       여자  1544    93.3    6.7  1912    93.7    6.3\n",
              " 4      10대   506    89.4   10.6   453    95.7    4.3\n",
              " 5      20대   783    94.5    5.5   835    94.9    5.1\n",
              " 6      30대   764    92.9    7.1   831    94.9    5.1\n",
              " 7      40대   658    92.8    7.2   800    93.3    6.7\n",
              " 8      50대   407    93.9    6.1   713    90.3    9.7\n",
              " 9      60대   168    86.6   13.4   294    93.0    7.0\n",
              " 10  70세 이상    29    91.3    8.7    72    91.0    9.0)"
            ]
          },
          "metadata": {},
          "execution_count": 32
        }
      ]
    },
    {
      "cell_type": "code",
      "source": [
        "\n",
        "ott_mktshr_prop['2020']=round(ott_mktshr_prop['2020']*ott_mktshr['2020.1']/100 )\n",
        "ott_mktshr_prop['2019']=round(ott_mktshr_prop['2019']*ott_mktshr['2019.1']/100)\n",
        "ott_mktshr_prop['change']=(ott_mktshr_prop['2020']-ott_mktshr_prop['2019']) /ott_mktshr_prop['2019']"
      ],
      "metadata": {
        "trusted": true,
        "id": "jxvpRhZPr0ol",
        "colab": {
          "base_uri": "https://localhost:8080/"
        },
        "outputId": "9e3389ac-79cc-4869-ae02-5480e1fdcc94"
      },
      "execution_count": null,
      "outputs": [
        {
          "output_type": "stream",
          "name": "stderr",
          "text": [
            "/usr/local/lib/python3.7/dist-packages/ipykernel_launcher.py:2: SettingWithCopyWarning: \n",
            "A value is trying to be set on a copy of a slice from a DataFrame.\n",
            "Try using .loc[row_indexer,col_indexer] = value instead\n",
            "\n",
            "See the caveats in the documentation: https://pandas.pydata.org/pandas-docs/stable/user_guide/indexing.html#returning-a-view-versus-a-copy\n",
            "  \n",
            "/usr/local/lib/python3.7/dist-packages/ipykernel_launcher.py:3: SettingWithCopyWarning: \n",
            "A value is trying to be set on a copy of a slice from a DataFrame.\n",
            "Try using .loc[row_indexer,col_indexer] = value instead\n",
            "\n",
            "See the caveats in the documentation: https://pandas.pydata.org/pandas-docs/stable/user_guide/indexing.html#returning-a-view-versus-a-copy\n",
            "  This is separate from the ipykernel package so we can avoid doing imports until\n",
            "/usr/local/lib/python3.7/dist-packages/ipykernel_launcher.py:4: SettingWithCopyWarning: \n",
            "A value is trying to be set on a copy of a slice from a DataFrame.\n",
            "Try using .loc[row_indexer,col_indexer] = value instead\n",
            "\n",
            "See the caveats in the documentation: https://pandas.pydata.org/pandas-docs/stable/user_guide/indexing.html#returning-a-view-versus-a-copy\n",
            "  after removing the cwd from sys.path.\n"
          ]
        }
      ]
    },
    {
      "cell_type": "markdown",
      "source": [
        "### 코로나 전,후 연령 증감추이\n",
        "- 10대 제외하고 모두 증가\n",
        "- 특히 높은 연령의 증가율이 큼"
      ],
      "metadata": {
        "id": "akp-UIlTr0om"
      }
    },
    {
      "cell_type": "code",
      "source": [
        "sns.lineplot(data=ott_mktshr_prop[3:],x='구분별(2)',y='2019',color='gray', linestyle='dashed',alpha=.7)\n",
        "sns.lineplot(data=ott_mktshr_prop[3:],x='구분별(2)',y='2020', color='gray',alpha=.7)\n",
        "plt.legend(labels=['2019','2020'])\n",
        "\n",
        "for i in range(len(ott_mktshr_prop[3:])): \n",
        "  if ott_mktshr_prop['2020'][3:].iloc[i] - ott_mktshr_prop['2019'][3:].iloc[i] > 0:\n",
        "    plt.text(  i,    ott_mktshr_prop['2019'][3:].iloc[i]  +  (ott_mktshr_prop['2020'][3:].iloc[i] - ott_mktshr_prop['2019'][3:].iloc[i])/2,\n",
        "            f\"+{(ott_mktshr_prop['2020'][3:].iloc[i] - ott_mktshr_prop['2019'][3:].iloc[i] ):.0f} \\n(+{ott_mktshr_prop['change'][3:].iloc[i]*100:.0f}%)\",\n",
        "            horizontalalignment='center',weight='bold', color='hotpink')\n",
        "  else:\n",
        "     plt.text(  i,    ott_mktshr_prop['2019'][3:].iloc[i]  +  (ott_mktshr_prop['2020'][3:].iloc[i] - ott_mktshr_prop['2019'][3:].iloc[i])/2,\n",
        "            f\"{(ott_mktshr_prop['2020'][3:].iloc[i] - ott_mktshr_prop['2019'][3:].iloc[i] ):.0f} \\n({ott_mktshr_prop['change'][3:].iloc[i]*100:.0f}%)\",\n",
        "            horizontalalignment='center',weight='bold', color='cyan')\n",
        "plt.suptitle('2019,2020년 설문 응답자 중\\n OTT 구독자 수와 차이', fontsize=12)\n",
        "plt.xlabel('연령')\n",
        "plt.ylabel('구독 수')\n",
        "plt.xticks( )\n"
      ],
      "metadata": {
        "trusted": true,
        "id": "tag7zOx6r0or",
        "colab": {
          "base_uri": "https://localhost:8080/",
          "height": 325
        },
        "outputId": "910ba6cd-a7bd-4ff6-f279-01374609f74e"
      },
      "execution_count": null,
      "outputs": [
        {
          "output_type": "execute_result",
          "data": {
            "text/plain": [
              "([0, 1, 2, 3, 4, 5, 6], <a list of 7 Text major ticklabel objects>)"
            ]
          },
          "metadata": {},
          "execution_count": 34
        },
        {
          "output_type": "display_data",
          "data": {
            "image/png": "[encoded data removed]",
            "text/plain": [
              "<Figure size 432x288 with 1 Axes>"
            ]
          },
          "metadata": {}
        }
      ]
    },
    {
      "cell_type": "code",
      "source": [
        "ott_mktshr_prop['prop_19']=ott_mktshr_prop['2019']/ott_mktshr_prop['2019'].iloc[0]\n",
        "ott_mktshr_prop['prop_20']=ott_mktshr_prop['2020']/ott_mktshr_prop['2020'].iloc[0]\n",
        "\n",
        "ott_mktshr_prop"
      ],
      "metadata": {
        "trusted": true,
        "id": "IpdHb1Jkr0os",
        "colab": {
          "base_uri": "https://localhost:8080/",
          "height": 591
        },
        "outputId": "4304c416-3446-42ca-cb49-17cc52f1daa3"
      },
      "execution_count": null,
      "outputs": [
        {
          "output_type": "stream",
          "name": "stderr",
          "text": [
            "/usr/local/lib/python3.7/dist-packages/ipykernel_launcher.py:1: SettingWithCopyWarning: \n",
            "A value is trying to be set on a copy of a slice from a DataFrame.\n",
            "Try using .loc[row_indexer,col_indexer] = value instead\n",
            "\n",
            "See the caveats in the documentation: https://pandas.pydata.org/pandas-docs/stable/user_guide/indexing.html#returning-a-view-versus-a-copy\n",
            "  \"\"\"Entry point for launching an IPython kernel.\n",
            "/usr/local/lib/python3.7/dist-packages/ipykernel_launcher.py:2: SettingWithCopyWarning: \n",
            "A value is trying to be set on a copy of a slice from a DataFrame.\n",
            "Try using .loc[row_indexer,col_indexer] = value instead\n",
            "\n",
            "See the caveats in the documentation: https://pandas.pydata.org/pandas-docs/stable/user_guide/indexing.html#returning-a-view-versus-a-copy\n",
            "  \n"
          ]
        },
        {
          "output_type": "execute_result",
          "data": {
            "text/html": [
              "\n",
              "  <div id=\"df-59333084-e544-4bcd-be74-4b203e476473\">\n",
              "    <div class=\"colab-df-container\">\n",
              "      <div>\n",
              "<style scoped>\n",
              "    .dataframe tbody tr th:only-of-type {\n",
              "        vertical-align: middle;\n",
              "    }\n",
              "\n",
              "    .dataframe tbody tr th {\n",
              "        vertical-align: top;\n",
              "    }\n",
              "\n",
              "    .dataframe thead th {\n",
              "        text-align: right;\n",
              "    }\n",
              "</style>\n",
              "<table border=\"1\" class=\"dataframe\">\n",
              "  <thead>\n",
              "    <tr style=\"text-align: right;\">\n",
              "      <th></th>\n",
              "      <th>구분별(2)</th>\n",
              "      <th>2019</th>\n",
              "      <th>2020</th>\n",
              "      <th>change</th>\n",
              "      <th>prop_19</th>\n",
              "      <th>prop_20</th>\n",
              "    </tr>\n",
              "  </thead>\n",
              "  <tbody>\n",
              "    <tr>\n",
              "      <th>1</th>\n",
              "      <td>소계</td>\n",
              "      <td>3067.0</td>\n",
              "      <td>3743.0</td>\n",
              "      <td>0.220411</td>\n",
              "      <td>1.000000</td>\n",
              "      <td>1.000000</td>\n",
              "    </tr>\n",
              "    <tr>\n",
              "      <th>2</th>\n",
              "      <td>남자</td>\n",
              "      <td>1626.0</td>\n",
              "      <td>1953.0</td>\n",
              "      <td>0.201107</td>\n",
              "      <td>0.530160</td>\n",
              "      <td>0.521774</td>\n",
              "    </tr>\n",
              "    <tr>\n",
              "      <th>3</th>\n",
              "      <td>여자</td>\n",
              "      <td>1441.0</td>\n",
              "      <td>1792.0</td>\n",
              "      <td>0.243581</td>\n",
              "      <td>0.469840</td>\n",
              "      <td>0.478760</td>\n",
              "    </tr>\n",
              "    <tr>\n",
              "      <th>4</th>\n",
              "      <td>10대</td>\n",
              "      <td>452.0</td>\n",
              "      <td>434.0</td>\n",
              "      <td>-0.039823</td>\n",
              "      <td>0.147375</td>\n",
              "      <td>0.115950</td>\n",
              "    </tr>\n",
              "    <tr>\n",
              "      <th>5</th>\n",
              "      <td>20대</td>\n",
              "      <td>740.0</td>\n",
              "      <td>792.0</td>\n",
              "      <td>0.070270</td>\n",
              "      <td>0.241278</td>\n",
              "      <td>0.211595</td>\n",
              "    </tr>\n",
              "    <tr>\n",
              "      <th>6</th>\n",
              "      <td>30대</td>\n",
              "      <td>710.0</td>\n",
              "      <td>789.0</td>\n",
              "      <td>0.111268</td>\n",
              "      <td>0.231497</td>\n",
              "      <td>0.210793</td>\n",
              "    </tr>\n",
              "    <tr>\n",
              "      <th>7</th>\n",
              "      <td>40대</td>\n",
              "      <td>611.0</td>\n",
              "      <td>746.0</td>\n",
              "      <td>0.220949</td>\n",
              "      <td>0.199217</td>\n",
              "      <td>0.199305</td>\n",
              "    </tr>\n",
              "    <tr>\n",
              "      <th>8</th>\n",
              "      <td>50대</td>\n",
              "      <td>382.0</td>\n",
              "      <td>644.0</td>\n",
              "      <td>0.685864</td>\n",
              "      <td>0.124552</td>\n",
              "      <td>0.172055</td>\n",
              "    </tr>\n",
              "    <tr>\n",
              "      <th>9</th>\n",
              "      <td>60대</td>\n",
              "      <td>145.0</td>\n",
              "      <td>273.0</td>\n",
              "      <td>0.882759</td>\n",
              "      <td>0.047277</td>\n",
              "      <td>0.072936</td>\n",
              "    </tr>\n",
              "    <tr>\n",
              "      <th>10</th>\n",
              "      <td>70세 이상</td>\n",
              "      <td>26.0</td>\n",
              "      <td>66.0</td>\n",
              "      <td>1.538462</td>\n",
              "      <td>0.008477</td>\n",
              "      <td>0.017633</td>\n",
              "    </tr>\n",
              "  </tbody>\n",
              "</table>\n",
              "</div>\n",
              "      <button class=\"colab-df-convert\" onclick=\"convertToInteractive('df-59333084-e544-4bcd-be74-4b203e476473')\"\n",
              "              title=\"Convert this dataframe to an interactive table.\"\n",
              "              style=\"display:none;\">\n",
              "        \n",
              "  <svg xmlns=\"http://www.w3.org/2000/svg\" height=\"24px\"viewBox=\"0 0 24 24\"\n",
              "       width=\"24px\">\n",
              "    <path d=\"M0 0h24v24H0V0z\" fill=\"none\"/>\n",
              "    <path d=\"M18.56 5.44l.94 2.06.94-2.06 2.06-.94-2.06-.94-.94-2.06-.94 2.06-2.06.94zm-11 1L8.5 8.5l.94-2.06 2.06-.94-2.06-.94L8.5 2.5l-.94 2.06-2.06.94zm10 10l.94 2.06.94-2.06 2.06-.94-2.06-.94-.94-2.06-.94 2.06-2.06.94z\"/><path d=\"M17.41 7.96l-1.37-1.37c-.4-.4-.92-.59-1.43-.59-.52 0-1.04.2-1.43.59L10.3 9.45l-7.72 7.72c-.78.78-.78 2.05 0 2.83L4 21.41c.39.39.9.59 1.41.59.51 0 1.02-.2 1.41-.59l7.78-7.78 2.81-2.81c.8-.78.8-2.07 0-2.86zM5.41 20L4 18.59l7.72-7.72 1.47 1.35L5.41 20z\"/>\n",
              "  </svg>\n",
              "      </button>\n",
              "      \n",
              "  <style>\n",
              "    .colab-df-container {\n",
              "      display:flex;\n",
              "      flex-wrap:wrap;\n",
              "      gap: 12px;\n",
              "    }\n",
              "\n",
              "    .colab-df-convert {\n",
              "      background-color: #E8F0FE;\n",
              "      border: none;\n",
              "      border-radius: 50%;\n",
              "      cursor: pointer;\n",
              "      display: none;\n",
              "      fill: #1967D2;\n",
              "      height: 32px;\n",
              "      padding: 0 0 0 0;\n",
              "      width: 32px;\n",
              "    }\n",
              "\n",
              "    .colab-df-convert:hover {\n",
              "      background-color: #E2EBFA;\n",
              "      box-shadow: 0px 1px 2px rgba(60, 64, 67, 0.3), 0px 1px 3px 1px rgba(60, 64, 67, 0.15);\n",
              "      fill: #174EA6;\n",
              "    }\n",
              "\n",
              "    [theme=dark] .colab-df-convert {\n",
              "      background-color: #3B4455;\n",
              "      fill: #D2E3FC;\n",
              "    }\n",
              "\n",
              "    [theme=dark] .colab-df-convert:hover {\n",
              "      background-color: #434B5C;\n",
              "      box-shadow: 0px 1px 3px 1px rgba(0, 0, 0, 0.15);\n",
              "      filter: drop-shadow(0px 1px 2px rgba(0, 0, 0, 0.3));\n",
              "      fill: #FFFFFF;\n",
              "    }\n",
              "  </style>\n",
              "\n",
              "      <script>\n",
              "        const buttonEl =\n",
              "          document.querySelector('#df-59333084-e544-4bcd-be74-4b203e476473 button.colab-df-convert');\n",
              "        buttonEl.style.display =\n",
              "          google.colab.kernel.accessAllowed ? 'block' : 'none';\n",
              "\n",
              "        async function convertToInteractive(key) {\n",
              "          const element = document.querySelector('#df-59333084-e544-4bcd-be74-4b203e476473');\n",
              "          const dataTable =\n",
              "            await google.colab.kernel.invokeFunction('convertToInteractive',\n",
              "                                                     [key], {});\n",
              "          if (!dataTable) return;\n",
              "\n",
              "          const docLinkHtml = 'Like what you see? Visit the ' +\n",
              "            '<a target=\"_blank\" href=https://colab.research.google.com/notebooks/data_table.ipynb>data table notebook</a>'\n",
              "            + ' to learn more about interactive tables.';\n",
              "          element.innerHTML = '';\n",
              "          dataTable['output_type'] = 'display_data';\n",
              "          await google.colab.output.renderOutput(dataTable, element);\n",
              "          const docLink = document.createElement('div');\n",
              "          docLink.innerHTML = docLinkHtml;\n",
              "          element.appendChild(docLink);\n",
              "        }\n",
              "      </script>\n",
              "    </div>\n",
              "  </div>\n",
              "  "
            ],
            "text/plain": [
              "    구분별(2)    2019    2020    change   prop_19   prop_20\n",
              "1       소계  3067.0  3743.0  0.220411  1.000000  1.000000\n",
              "2       남자  1626.0  1953.0  0.201107  0.530160  0.521774\n",
              "3       여자  1441.0  1792.0  0.243581  0.469840  0.478760\n",
              "4      10대   452.0   434.0 -0.039823  0.147375  0.115950\n",
              "5      20대   740.0   792.0  0.070270  0.241278  0.211595\n",
              "6      30대   710.0   789.0  0.111268  0.231497  0.210793\n",
              "7      40대   611.0   746.0  0.220949  0.199217  0.199305\n",
              "8      50대   382.0   644.0  0.685864  0.124552  0.172055\n",
              "9      60대   145.0   273.0  0.882759  0.047277  0.072936\n",
              "10  70세 이상    26.0    66.0  1.538462  0.008477  0.017633"
            ]
          },
          "metadata": {},
          "execution_count": 35
        }
      ]
    },
    {
      "cell_type": "markdown",
      "source": [
        "### 코로나 전,후 구독자 수\n",
        "- 증가"
      ],
      "metadata": {
        "id": "-V9ipSyar0os"
      }
    },
    {
      "cell_type": "code",
      "source": [
        "ott_mktshr_1920_melted=ott_mktshr_prop.melt( id_vars=['구분별(2)'],var_name='년도',value_name='사례수')"
      ],
      "metadata": {
        "trusted": true,
        "id": "j3EFms0kr0ot"
      },
      "execution_count": null,
      "outputs": []
    },
    {
      "cell_type": "code",
      "source": [
        "ott_mktshr_1920_melted['사례수']=pd.to_numeric(ott_mktshr_1920_melted['사례수'])\n",
        "ott_mktshr_1920_melted[ott_mktshr_1920_melted['년도'].str.isnumeric()].groupby('년도').sum().plot.bar( alpha=0.3,legend=False)\n",
        "\n",
        "plt.suptitle('2019,2020년 구독 사례수', fontsize=12)\n",
        "plt.xlabel('년도')\n",
        "plt.ylabel('구독 수')\n"
      ],
      "metadata": {
        "trusted": true,
        "id": "5jnh4OOmr0ou",
        "colab": {
          "base_uri": "https://localhost:8080/",
          "height": 339
        },
        "outputId": "5b7d5a92-65c9-43f8-8fb3-fbe773d54ad4"
      },
      "execution_count": null,
      "outputs": [
        {
          "output_type": "execute_result",
          "data": {
            "text/plain": [
              "Text(0, 0.5, '구독 수')"
            ]
          },
          "metadata": {},
          "execution_count": 37
        },
        {
          "output_type": "display_data",
          "data": {
            "image/png": "[encoded data removed]",
            "text/plain": [
              "<Figure size 432x288 with 1 Axes>"
            ]
          },
          "metadata": {}
        }
      ]
    },
    {
      "cell_type": "markdown",
      "source": [
        "### OTT 시장 점유율\n",
        "- Netflix가 독점\n",
        "- 국내 OTT 시장점유율 낮음\n",
        "- Disney + 이미 국내 시장 진입, Amazon Prime Video 는 SKT와 손잡고 들어올 계획 중\n",
        "- 막강한 오리지널 컨텐츠 때문에 국내 시장에 영향을 더 줄 것으로 봄 ( 해외 사례에서도 후발주자임에도 주요 3,4개 회사가 점점 독점하게 됨)"
      ],
      "metadata": {
        "id": "0xoV60-qr0o1"
      }
    },
    {
      "cell_type": "code",
      "source": [
        "!pip install squarify \n",
        "import squarify \n",
        "import matplotlib"
      ],
      "metadata": {
        "trusted": true,
        "id": "o0P1p8HIr0o2",
        "colab": {
          "base_uri": "https://localhost:8080/"
        },
        "outputId": "19f2fddb-d742-488b-c5cd-ed9c3b6261a4"
      },
      "execution_count": null,
      "outputs": [
        {
          "output_type": "stream",
          "name": "stdout",
          "text": [
            "Collecting squarify\n",
            "  Downloading squarify-0.4.3-py3-none-any.whl (4.3 kB)\n",
            "Installing collected packages: squarify\n",
            "Successfully installed squarify-0.4.3\n"
          ]
        }
      ]
    },
    {
      "cell_type": "code",
      "source": [
        "df1=pd.DataFrame({\n",
        "    'platform':['Netflix','wavve','TVING','Seezn','Watcha'],\n",
        "    'user':[637.5,344.2,241,206.1,92.6],\n",
        "})\n",
        "fig = plt.figure(figsize=(20, 10))\n",
        "\n",
        "cmap = matplotlib.cm.get_cmap('RdGy_r') #reverse mode\n",
        "mini,maxi=min(df1[\"user\"]),max(df1[\"user\"])\n",
        "norm = matplotlib.colors.Normalize(vmin=mini, vmax=maxi)\n",
        "colors = [cmap(norm(value)) for value in df1[\"user\"]]\n",
        "\n",
        "labels=[\"%s\\n%d\\n(%.1f%%)\" % (x,y,z*100) for x,y,z in zip(df1.platform,df1.user,df1.user/sum(df1.user))]\n",
        "ax=squarify.plot(sizes=df1.user, label=labels, alpha=.9,color=colors )\n",
        "ax.texts[0].set_weight('bold')\n",
        "ax.texts[1].set_color('black')\n",
        "\n",
        "img = plt.imshow([df1[\"user\"]], cmap=cmap)\n",
        "fig.colorbar(img, orientation=\"vertical\", shrink=.96)\n",
        "\n",
        "plt.suptitle(\"2020년 OTT 월평균 이용자 순위(단위: 만명)\", fontsize=20)\n",
        "plt.xlabel('')\n",
        "plt.ylabel('(단위: 만명)')\n",
        "plt.xticks( )"
      ],
      "metadata": {
        "trusted": true,
        "id": "wPVBo02mr0pA",
        "colab": {
          "base_uri": "https://localhost:8080/",
          "height": 698
        },
        "outputId": "ef7696aa-ad38-47e2-f2aa-80b65466785f"
      },
      "execution_count": null,
      "outputs": [
        {
          "output_type": "execute_result",
          "data": {
            "text/plain": [
              "(array([  0.,  20.,  40.,  60.,  80., 100.]),\n",
              " <a list of 6 Text major ticklabel objects>)"
            ]
          },
          "metadata": {},
          "execution_count": 40
        },
        {
          "output_type": "display_data",
          "data": {
            "image/png": "[encoded data removed]",
            "text/plain": [
              "<Figure size 1440x720 with 2 Axes>"
            ]
          },
          "metadata": {}
        }
      ]
    },
    {
      "cell_type": "markdown",
      "source": [
        "### 넷플릭스 앱 신규설치자\n",
        "- 정말 오리지널 컨텐츠의 영향이 있는지 보았는데 특정 유명세 탄 컨텐츠가 릴리즈 된 이후 신규 유입 폭발함\n"
      ],
      "metadata": {
        "id": "LxOD2sp6r0pE"
      }
    },
    {
      "cell_type": "code",
      "source": [
        "\n",
        "dnetflix_9=pd.DataFrame({   \n",
        "     'year':['2021년 5월','2021년 6월','2021년 7월','2021년 8월','2021년 9월'],\n",
        "    'new_user': [446,419,608,575,1197]\n",
        "    })\n",
        "\n",
        "fig = plt.figure(figsize=(10, 6))\n",
        "\n",
        "sns.barplot(data=dnetflix_9,x='year',y='new_user'\n",
        ",palette= [\"#FF0B04\" if x > 1000 else 'gray' for x in dnetflix_9.new_user ],alpha=.4)\n",
        "  \n",
        "\n",
        "for i in range(len(dnetflix_9.new_user)): \n",
        "  plt.text(i, dnetflix_9.new_user[i],dnetflix_9.new_user[i],\n",
        "           horizontalalignment='center',weight='bold',fontsize=12 )\n",
        "\n",
        "plt.suptitle('넷플릭스 앱 신규 설치자 현황', fontsize=14,weight='bold')\n",
        "plt.xlabel('', fontsize=12)\n",
        "plt.ylabel('(단위: 천명)',fontsize=12)\n",
        "plt.xticks(fontsize=10)"
      ],
      "metadata": {
        "trusted": true,
        "id": "IzDu3fTzr0pE",
        "colab": {
          "base_uri": "https://localhost:8080/",
          "height": 434
        },
        "outputId": "5454fe49-6698-4dac-ae38-04cd94b47ca2"
      },
      "execution_count": null,
      "outputs": [
        {
          "output_type": "execute_result",
          "data": {
            "text/plain": [
              "(array([0, 1, 2, 3, 4]), <a list of 5 Text major ticklabel objects>)"
            ]
          },
          "metadata": {},
          "execution_count": 41
        },
        {
          "output_type": "display_data",
          "data": {
            "image/png": "[encoded data removed]",
            "text/plain": [
              "<Figure size 720x432 with 1 Axes>"
            ]
          },
          "metadata": {}
        }
      ]
    },
    {
      "cell_type": "code",
      "source": [
        "# !pip install -U kaleido"
      ],
      "metadata": {
        "trusted": true,
        "id": "fJAtythpr0pF"
      },
      "execution_count": null,
      "outputs": []
    },
    {
      "cell_type": "code",
      "source": [
        "# # !pip install plotly==5.5.0\n",
        "# #!pip install -U kaleido\n",
        "# import plotly.express as px\n",
        "# import pandas as pd\n",
        "\n",
        "\n",
        "# dnetflix_9=pd.DataFrame({   \n",
        "#      'year':['2021년 5월','2021년 6월','2021년 7월','2021년 8월','2021년 9월'],\n",
        "#     'new_user': [446,419,608,575,1197]\n",
        "#     })\n",
        "# #넷플릭스 오리지널 DP, 오징어게임으로 9월에 \n",
        "# fig = px.bar(x=dnetflix_9.year,y=dnetflix_9.new_user)\n",
        "# fig.show()\n",
        "# # fig.write_html(\"netflix_sep.html\")\n",
        "# fig.write_image(\"netflix_sep.png\")\n",
        "\n",
        "# # palette= [\"#FF0B04\" if x > 1000 else '#4374B3' for x in dnetflix_9.new_user ]).set(Title='Netflix 앱 신규 설치자 현황',xlabel='',ylabel='(단위: 천명)')"
      ],
      "metadata": {
        "trusted": true,
        "id": "d2d7Z5Bmr0pF"
      },
      "execution_count": null,
      "outputs": []
    }
  ]
}